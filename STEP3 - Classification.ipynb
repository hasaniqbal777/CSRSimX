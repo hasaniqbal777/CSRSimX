{
 "cells": [
  {
   "cell_type": "code",
   "execution_count": 3,
   "metadata": {},
   "outputs": [],
   "source": [
    "import os\n",
    "import cv2\n",
    "import numpy as np\n",
    "import pandas as pd\n",
    "import seaborn as sns\n",
    "import matplotlib.pyplot as plt\n",
    "\n",
    "from cv2 import HOGDescriptor\n",
    "\n",
    "from sklearn.metrics import classification_report\n",
    "from sklearn.metrics import confusion_matrix\n",
    "\n",
    "from tqdm import tqdm"
   ]
  },
  {
   "cell_type": "code",
   "execution_count": 4,
   "metadata": {},
   "outputs": [
    {
     "name": "stdout",
     "output_type": "stream",
     "text": [
      "Data Shape:  (1200, 6)\n",
      "Labels:  ['diode' 'resistor' 'inductor'] [0 1 2]\n",
      "Dataset:\n"
     ]
    },
    {
     "data": {
      "text/html": [
       "<div>\n",
       "<style scoped>\n",
       "    .dataframe tbody tr th:only-of-type {\n",
       "        vertical-align: middle;\n",
       "    }\n",
       "\n",
       "    .dataframe tbody tr th {\n",
       "        vertical-align: top;\n",
       "    }\n",
       "\n",
       "    .dataframe thead th {\n",
       "        text-align: right;\n",
       "    }\n",
       "</style>\n",
       "<table border=\"1\" class=\"dataframe\">\n",
       "  <thead>\n",
       "    <tr style=\"text-align: right;\">\n",
       "      <th></th>\n",
       "      <th>ort</th>\n",
       "      <th>grp</th>\n",
       "      <th>path</th>\n",
       "      <th>label</th>\n",
       "      <th>label_int</th>\n",
       "      <th>filename</th>\n",
       "    </tr>\n",
       "  </thead>\n",
       "  <tbody>\n",
       "    <tr>\n",
       "      <th>0</th>\n",
       "      <td>0</td>\n",
       "      <td>train</td>\n",
       "      <td>data/train/0_diode/1.jpeg</td>\n",
       "      <td>diode</td>\n",
       "      <td>0</td>\n",
       "      <td>1.jpeg</td>\n",
       "    </tr>\n",
       "    <tr>\n",
       "      <th>1</th>\n",
       "      <td>90</td>\n",
       "      <td>train</td>\n",
       "      <td>data/train/0_diode/1.jpeg</td>\n",
       "      <td>diode</td>\n",
       "      <td>0</td>\n",
       "      <td>1.jpeg</td>\n",
       "    </tr>\n",
       "    <tr>\n",
       "      <th>2</th>\n",
       "      <td>180</td>\n",
       "      <td>train</td>\n",
       "      <td>data/train/0_diode/1.jpeg</td>\n",
       "      <td>diode</td>\n",
       "      <td>0</td>\n",
       "      <td>1.jpeg</td>\n",
       "    </tr>\n",
       "  </tbody>\n",
       "</table>\n",
       "</div>"
      ],
      "text/plain": [
       "   ort    grp                       path  label label_int filename\n",
       "0    0  train  data/train/0_diode/1.jpeg  diode         0   1.jpeg\n",
       "1   90  train  data/train/0_diode/1.jpeg  diode         0   1.jpeg\n",
       "2  180  train  data/train/0_diode/1.jpeg  diode         0   1.jpeg"
      ]
     },
     "execution_count": 4,
     "metadata": {},
     "output_type": "execute_result"
    }
   ],
   "source": [
    "# Image Directory\n",
    "img_dir = \"data\"\n",
    "\n",
    "# Data Groups\n",
    "grps = [\"train\", \"test\"]\n",
    "\n",
    "# Initializing a Dataframe to store paths and labels\n",
    "column_names = [\"ort\", \"grp\", \"path\", \"label\", \"label_int\", \"filename\"]\n",
    "data = pd.DataFrame(columns = column_names)\n",
    "\n",
    "# For label\n",
    "label_i = 0\n",
    "for grp in grps:\n",
    "    for path in sorted(os.listdir(img_dir +'/'+ grp)):\n",
    "        if not path.startswith('.'):\n",
    "            files = os.listdir(img_dir +'/'+ grp +'/'+ path)\n",
    "            files = sorted(files, key = lambda x: int(x.split(\".\")[0]))\n",
    "            for f in files:\n",
    "                if (f.endswith('.png') or f.endswith('.jpeg') or f.endswith('.jpg')):\n",
    "                    for orientation in [0, 90, 180, 270]:\n",
    "                        data_append = {\"ort\": orientation,\n",
    "                                    \"grp\": grp,\n",
    "                                    \"path\": img_dir +'/'+ grp +'/'+ path +'/'+ f,\n",
    "                                    \"label\": path.split(\"_\")[1],\n",
    "                                    \"label_int\": int(path.split(\"_\")[0]),\n",
    "                                    \"filename\": f}\n",
    "                        data = data.append(data_append, ignore_index = True)\n",
    "\n",
    "# Printing Useful information\n",
    "print(\"Data Shape: \", data.shape)\n",
    "print(\"Labels: \", data.label.unique(), data.label_int.unique())\n",
    "\n",
    "print(\"Dataset:\")\n",
    "data.head(3)"
   ]
  },
  {
   "cell_type": "code",
   "execution_count": 5,
   "metadata": {},
   "outputs": [
    {
     "data": {
      "image/png": "[encoded data removed]",
      "text/plain": [
       "<Figure size 360x360 with 1 Axes>"
      ]
     },
     "metadata": {
      "needs_background": "light"
     },
     "output_type": "display_data"
    }
   ],
   "source": [
    "ax = sns.displot(data=data, x='label')"
   ]
  },
  {
   "cell_type": "markdown",
   "metadata": {},
   "source": [
    "# Loading and Viewing Images"
   ]
  },
  {
   "cell_type": "code",
   "execution_count": 6,
   "metadata": {},
   "outputs": [
    {
     "name": "stdout",
     "output_type": "stream",
     "text": [
      "[INFO] Importing Images\n"
     ]
    },
    {
     "name": "stderr",
     "output_type": "stream",
     "text": [
      "100%|██████████| 1200/1200 [00:00<00:00, 2794.42it/s]\n"
     ]
    }
   ],
   "source": [
    "# Initializing images column\n",
    "data['img_read'] = np.nan\n",
    "data['img_read'] = data['img_read'].astype(object)\n",
    "\n",
    "# Printing Info\n",
    "print(\"[INFO] Importing Images\")\n",
    "\n",
    "# Iterating on all rows and reading image data\n",
    "for index, row in tqdm(data.iterrows(), total=data.shape[0]):\n",
    "    img = cv2.imread(row.path, 0)\n",
    "    data.at[index, 'img_read'] = img"
   ]
  },
  {
   "cell_type": "code",
   "execution_count": 7,
   "metadata": {},
   "outputs": [
    {
     "data": {
      "image/png": "[encoded data removed]",
      "text/plain": [
       "<Figure size 864x144 with 8 Axes>"
      ]
     },
     "metadata": {
      "needs_background": "light"
     },
     "output_type": "display_data"
    }
   ],
   "source": [
    "row = 1\n",
    "col = 8\n",
    "\n",
    "fig, axes = plt.subplots(row, col, figsize=(1.5*col,2*row))\n",
    "for (index, data_sample), i in zip(data.sample(8).iterrows(), range(8)):\n",
    "    ax = axes[i]\n",
    "    ax.imshow(data_sample[\"img_read\"], \"gray\")\n",
    "    ax.set_title(data_sample.label)\n",
    "    ax.axis(\"off\") \n",
    "plt.show()"
   ]
  },
  {
   "cell_type": "markdown",
   "metadata": {},
   "source": [
    "# Initialization of Feature Descriptor"
   ]
  },
  {
   "cell_type": "code",
   "execution_count": 8,
   "metadata": {},
   "outputs": [],
   "source": [
    "# Adjusting and Initializing Hog Descriptor\n",
    "winSize = (100,100)\n",
    "blockSize = (10,10)\n",
    "blockStride = (5,5)\n",
    "cellSize = (10,10)\n",
    "nbins = 9\n",
    "derivAperture = 1\n",
    "winSigma = -1.\n",
    "histogramNormType = 0\n",
    "L2HysThreshold = 0.2\n",
    "gammaCorrection = 1\n",
    "nlevels = 64\n",
    "signedGradient = True\n",
    "\n",
    "hog = HOGDescriptor(winSize,\n",
    "                    blockSize,\n",
    "                    blockStride,\n",
    "                    cellSize,\n",
    "                    nbins,\n",
    "                    derivAperture,\n",
    "                    winSigma,\n",
    "                    histogramNormType,\n",
    "                    L2HysThreshold,\n",
    "                    gammaCorrection,\n",
    "                    nlevels, \n",
    "                    signedGradient)"
   ]
  },
  {
   "cell_type": "markdown",
   "metadata": {},
   "source": [
    "# Space Vector Machine Classification"
   ]
  },
  {
   "cell_type": "code",
   "execution_count": 9,
   "metadata": {},
   "outputs": [],
   "source": [
    "# Initializing SVM Classifier\n",
    "svm = cv2.ml.SVM_create()\n",
    "\n",
    "# Radial basis function (RBF), \n",
    "# K(xi,xj)=e^(−γ||xi−xj||^2), γ>0.\n",
    "svm.setKernel(cv2.ml.SVM_RBF)\n",
    "\n",
    "# C-Support Vector Classification. \n",
    "# --------------------------------\n",
    "# n-class classification (n ≥ 2)\n",
    "# allows imperfect separation of classes \n",
    "# with penalty multiplier C for outliers\n",
    "svm.setType(cv2.ml.SVM_C_SVC)"
   ]
  },
  {
   "cell_type": "code",
   "execution_count": 10,
   "metadata": {},
   "outputs": [],
   "source": [
    "# Train Data Selection\n",
    "trainData = data[(data['grp'] == \"train\") & (data['ort'] == 0)]\n",
    "trainLabels = data[data['grp'] == \"train\"][\"label_int\"].tolist()\n",
    "\n",
    "# Initalize Hog Descriptors\n",
    "hog_descriptors = []\n",
    "\n",
    "for index, row in trainData.iterrows():\n",
    "    # Getting Image Data\n",
    "    img_data = row[\"img_read\"]\n",
    "\n",
    "    # Resize image and interpolate\n",
    "    resized_img = cv2.resize(img_data,(100,100),interpolation = cv2.INTER_CUBIC)\n",
    "\n",
    "    # Applying Gaussion Blur\n",
    "    gauss_img = cv2.GaussianBlur(resized_img,(9,9),0)\n",
    "\n",
    "    # Applying Thresholding (Adaptive and Binary Inverse)\n",
    "    th = cv2.adaptiveThreshold(gauss_img, 255, cv2.ADAPTIVE_THRESH_GAUSSIAN_C,\n",
    "                            cv2.THRESH_BINARY_INV, 11, 2)\n",
    "\n",
    "    # Computing Hog Descriptors\n",
    "    hog_descriptors.append(hog.compute(th))\n",
    "\n",
    "    # For all four orientations of an image\n",
    "    rows,cols = resized_img.shape\n",
    "    for i in [1,2,3]:\n",
    "        # Rotate Images in all four orientations\n",
    "        M   = cv2.getRotationMatrix2D((cols/2,rows/2),i*90,1)\n",
    "        dst = cv2.warpAffine(th,M,(cols,rows))\n",
    "        hog_descriptors.append(hog.compute(dst))"
   ]
  },
  {
   "cell_type": "code",
   "execution_count": 12,
   "metadata": {},
   "outputs": [
    {
     "data": {
      "text/plain": [
       "True"
      ]
     },
     "execution_count": 12,
     "metadata": {},
     "output_type": "execute_result"
    }
   ],
   "source": [
    "svm.trainAuto(np.array(hog_descriptors, np.float32),\n",
    "              cv2.ml.ROW_SAMPLE, \n",
    "              np.array(trainLabels))"
   ]
  },
  {
   "cell_type": "code",
   "execution_count": 13,
   "metadata": {},
   "outputs": [],
   "source": [
    "svm.save('models/trained_SVM_model.dat')"
   ]
  },
  {
   "cell_type": "code",
   "execution_count": 14,
   "metadata": {},
   "outputs": [],
   "source": [
    "svm = cv2.ml.SVM_load('models/trained_SVM_model.dat')"
   ]
  },
  {
   "cell_type": "code",
   "execution_count": 15,
   "metadata": {},
   "outputs": [],
   "source": [
    "# Test Data Selection\n",
    "testData = data[(data['grp'] == \"test\") & (data['ort'] == 0)]\n",
    "testLabels = data[data['grp'] == \"test\"][\"label_int\"].tolist()\n",
    "\n",
    "# Initalize Hog Descriptors\n",
    "test_hog_descriptors = []\n",
    "\n",
    "for index, row in testData.iterrows():\n",
    "    # Getting Image Data\n",
    "    img_data = row[\"img_read\"]\n",
    "\n",
    "    # Resize image and interpolate\n",
    "    resized_img = cv2.resize(img_data,(100,100),interpolation = cv2.INTER_CUBIC)\n",
    "\n",
    "    # Applying Gaussion Blur\n",
    "    gauss_img = cv2.GaussianBlur(resized_img,(9,9),0)\n",
    "\n",
    "    # Applying Thresholding (Adaptive and Binary Inverse)\n",
    "    th = cv2.adaptiveThreshold(gauss_img, 255, cv2.ADAPTIVE_THRESH_GAUSSIAN_C,\n",
    "                            cv2.THRESH_BINARY_INV, 11, 2)\n",
    "\n",
    "    # Computing Hog Descriptors\n",
    "    test_hog_descriptors.append(hog.compute(th))\n",
    "\n",
    "    # For all four orientations of an image\n",
    "    rows,cols = resized_img.shape\n",
    "    for i in [1,2,3]:\n",
    "        # Rotate Images in all four orientations\n",
    "        M   = cv2.getRotationMatrix2D((cols/2,rows/2),i*90,1)\n",
    "        dst = cv2.warpAffine(th,M,(cols,rows))\n",
    "        test_hog_descriptors.append(hog.compute(dst))"
   ]
  },
  {
   "cell_type": "code",
   "execution_count": 46,
   "metadata": {},
   "outputs": [],
   "source": [
    "testLabels_pred = []\n",
    "for hog_des in test_hog_descriptors:\n",
    "    _,result = svm.predict(np.array(hog_des,np.float32).reshape(-1,3249))\n",
    "    idx = int(result[0][0])\n",
    "    testLabels_pred.append(idx)"
   ]
  },
  {
   "cell_type": "code",
   "execution_count": 47,
   "metadata": {},
   "outputs": [
    {
     "name": "stdout",
     "output_type": "stream",
     "text": [
      "              precision    recall  f1-score   support\n",
      "\n",
      "       diode       1.00      1.00      1.00        80\n",
      "    resistor       0.87      0.93      0.90        80\n",
      "    inductor       0.92      0.86      0.89        80\n",
      "\n",
      "    accuracy                           0.93       240\n",
      "   macro avg       0.93      0.93      0.93       240\n",
      "weighted avg       0.93      0.93      0.93       240\n",
      "\n"
     ]
    }
   ],
   "source": [
    "print(classification_report(testLabels, testLabels_pred, target_names=data['label'].unique()))"
   ]
  },
  {
   "cell_type": "code",
   "execution_count": 49,
   "metadata": {},
   "outputs": [
    {
     "data": {
      "text/plain": [
       "<AxesSubplot:>"
      ]
     },
     "execution_count": 49,
     "metadata": {},
     "output_type": "execute_result"
    },
    {
     "data": {
      "image/png": "[encoded data removed]",
      "text/plain": [
       "<Figure size 432x288 with 2 Axes>"
      ]
     },
     "metadata": {
      "needs_background": "light"
     },
     "output_type": "display_data"
    }
   ],
   "source": [
    "sns.heatmap(confusion_matrix(testLabels, testLabels_pred), annot = True)"
   ]
  }
 ],
 "metadata": {
  "interpreter": {
   "hash": "908f50e75722073289714e5eba01cbff46f66ced9c008ac23c01c2a908c14221"
  },
  "kernelspec": {
   "display_name": "Python 3.8.11 64-bit ('base': conda)",
   "language": "python",
   "name": "python3"
  },
  "language_info": {
   "codemirror_mode": {
    "name": "ipython",
    "version": 3
   },
   "file_extension": ".py",
   "mimetype": "text/x-python",
   "name": "python",
   "nbconvert_exporter": "python",
   "pygments_lexer": "ipython3",
   "version": "3.8.11"
  },
  "orig_nbformat": 4
 },
 "nbformat": 4,
 "nbformat_minor": 2
}
